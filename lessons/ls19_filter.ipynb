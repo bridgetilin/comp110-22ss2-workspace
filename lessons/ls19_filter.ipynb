{
 "cells": [
  {
   "cell_type": "markdown",
   "metadata": {},
   "source": [
    "# Filtering Data Based on Criteria\n",
    "In this lesson, we will use a simple, small dataset of weather projections in Chapel Hill for Thursday, March 25th, through Saturday, April 3rd, where each row is the projection for the next day in that timeframe.\n",
    "\n",
    "Our analysis goal is to find the average temperatures on days where it is unlikely (less than 30%) to rain.\n",
    "\n",
    "We will consider approaching this problem from a column-oriented perspective.\n",
    "\n",
    "First, let's consider our data set."
   ]
  },
  {
   "cell_type": "code",
   "execution_count": 20,
   "metadata": {},
   "outputs": [
    {
     "data": {
      "text/plain": [
       "{'high': [77, 84, 78, 79, 65, 67, 74, 61, 55, 61],\n",
       " 'low': [67, 51, 64, 45, 43, 53, 56, 37, 34, 42],\n",
       " 'rain': [0.3, 0.2, 0.4, 0.8, 0.0, 0.2, 0.4, 0.5, 0.1, 0.1]}"
      ]
     },
     "execution_count": 20,
     "metadata": {},
     "output_type": "execute_result"
    }
   ],
   "source": [
    "col_data: dict[str, list[float]] = {\n",
    "    \"high\": [77, 84, 78, 79, 65, 67, 74, 61, 55, 61],\n",
    "    \"low\":  [67, 51, 64, 45, 43, 53, 56, 37, 34, 42],\n",
    "    \"rain\": [.3, .2, .4, .8, 0., .2, .4, .5, .1, .1]\n",
    "}\n",
    "\n",
    "col_data\n"
   ]
  },
  {
   "cell_type": "markdown",
   "metadata": {},
   "source": [
    "## Produce a mask based on criteria\n"
   ]
  },
  {
   "cell_type": "code",
   "execution_count": 21,
   "metadata": {},
   "outputs": [
    {
     "name": "stdout",
     "output_type": "stream",
     "text": [
      "[False, True, False, False, True, True, False, False, True, True]\n"
     ]
    }
   ],
   "source": [
    "def less_than(col: list[float], threshold: float) -> list[bool]:\n",
    "    result: list[bool] = []\n",
    "    for item in col: \n",
    "        result.append(item < threshold)\n",
    "        # the above line is the same since the expression will always evaluate to true or false\n",
    "        # if item < threshold:\n",
    "        #     result.append(True)\n",
    "        # else:\n",
    "        #     result.append(False)\n",
    "    return result\n",
    "\n",
    "# example tsting call\n",
    "# less_than(col_data[\"rain\"], 0.3)\n",
    "no_rain_mask: list[bool] = less_than(col_data[\"rain\"], 0.3)\n",
    "print(no_rain_mask)\n",
    "# less_than(col_data[\"high\"], 65)"
   ]
  },
  {
   "cell_type": "code",
   "execution_count": 30,
   "metadata": {},
   "outputs": [
    {
     "name": "stdout",
     "output_type": "stream",
     "text": [
      "[0.3, 0.2, 0.4, 0.8, 0.0, 0.2, 0.4, 0.5, 0.1, 0.1]\n",
      "[77, 84, 78, 79, 65, 67, 74, 61, 55, 61]\n",
      "[67, 51, 64, 45, 43, 53, 56, 37, 34, 42]\n"
     ]
    }
   ],
   "source": [
    "print(col_data[\"rain\"])\n",
    "print(col_data[\"high\"])\n",
    "print(col_data[\"low\"])"
   ]
  },
  {
   "cell_type": "markdown",
   "metadata": {},
   "source": [
    "# Masked function\n",
    "\n",
    "Takes in a column and a list of masks (bool values), returns only the values in the input column where the corresponding mask value is True"
   ]
  },
  {
   "cell_type": "code",
   "execution_count": 23,
   "metadata": {},
   "outputs": [
    {
     "name": "stdout",
     "output_type": "stream",
     "text": [
      "[84, 65, 67, 55, 61]\n"
     ]
    }
   ],
   "source": [
    "def masked(col: list[float], mask: list[bool]) -> list[float]:\n",
    "    result: list[float] = []\n",
    "\n",
    "    # for in loop so that the index value we are looking at is within the range of the mask\n",
    "\n",
    "    for i in range(len(mask)):\n",
    "        if mask[i]:\n",
    "            result.append(col[i])  # then append the item at the same index of our COLUMN\n",
    "    return result\n",
    "\n",
    "# test call\n",
    "# print(col_data[\"rain\"])\n",
    "# print(no_rain_mask)\n",
    "# print(col_data[\"high\"])\n",
    "# masked(col_data[\"high\"], no_rain_mask)\n",
    "\n",
    "highs_of_no_rain_days: list[float] = masked(col_data[\"high\"], no_rain_mask)\n",
    "print(highs_of_no_rain_days)"
   ]
  },
  {
   "cell_type": "markdown",
   "metadata": {},
   "source": [
    "# Compute the average"
   ]
  },
  {
   "cell_type": "code",
   "execution_count": 24,
   "metadata": {},
   "outputs": [
    {
     "data": {
      "text/plain": [
       "66.4"
      ]
     },
     "execution_count": 24,
     "metadata": {},
     "output_type": "execute_result"
    }
   ],
   "source": [
    "def mean(col: list[float]) -> float:\n",
    "    return sum(col) / len(col)  # built in sum \n",
    "\n",
    "mean(highs_of_no_rain_days)"
   ]
  },
  {
   "cell_type": "markdown",
   "metadata": {},
   "source": [
    "## with these hlper functions, we can perform many analyses!!!"
   ]
  },
  {
   "cell_type": "code",
   "execution_count": 28,
   "metadata": {},
   "outputs": [
    {
     "name": "stdout",
     "output_type": "stream",
     "text": [
      "0.30000000000000004\n"
     ]
    }
   ],
   "source": [
    "# What is the chance of rain when the low is less than 50 degrees\n",
    "\n",
    "less_than_50_mask: list[bool] = less_than(col_data[\"low\"], 50)\n",
    "rain_below_50_deg: list[float] = masked(col_data[\"rain\"], less_than_50_mask)\n",
    "average = mean(rain_below_50_deg)\n",
    "print(average)\n"
   ]
  },
  {
   "cell_type": "code",
   "execution_count": 29,
   "metadata": {},
   "outputs": [
    {
     "name": "stdout",
     "output_type": "stream",
     "text": [
      "51.0\n"
     ]
    }
   ],
   "source": [
    "def not_mask(mask: list[bool]) -> list[bool]:\n",
    "  result: list[bool] = []\n",
    "  for item in mask:\n",
    "    result.append(not item)\n",
    "  return result\n",
    "\n",
    "mask_a: list[bool] = less_than(col_data[\"high\"], 80)\n",
    "mask_b: list[bool] = not_mask(mask_a)\n",
    "\n",
    "values: list[float] = masked(col_data[\"low\"], mask_b)\n",
    "print(mean(values))"
   ]
  }
 ],
 "metadata": {
  "kernelspec": {
   "display_name": "Python 3.10.5 64-bit",
   "language": "python",
   "name": "python3"
  },
  "language_info": {
   "codemirror_mode": {
    "name": "ipython",
    "version": 3
   },
   "file_extension": ".py",
   "mimetype": "text/x-python",
   "name": "python",
   "nbconvert_exporter": "python",
   "pygments_lexer": "ipython3",
   "version": "3.10.5"
  },
  "orig_nbformat": 4,
  "vscode": {
   "interpreter": {
    "hash": "aee8b7b246df8f9039afb4144a1f6fd8d2ca17a180786b69acc140d282b71a49"
   }
  }
 },
 "nbformat": 4,
 "nbformat_minor": 2
}
