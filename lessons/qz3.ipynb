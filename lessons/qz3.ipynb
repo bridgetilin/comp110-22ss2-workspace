{
 "cells": [
  {
   "cell_type": "markdown",
   "metadata": {},
   "source": [
    "# Importing! \n",
    "\n",
    "*reference helpers.py and imports.py*\n",
    "\n",
    "## It is possible to import an enitre *module* from a pacakge/directory\n",
    "*When importing an entire module, we can access everything in it's globals frame*\n",
    "\n",
    "from `directory_name` import `module`\n",
    "\n",
    "e.g. from `lessons` import `helpers`\n",
    "\n",
    "note: if there are subpackages you'll do `directory_name.subpackage.subpackage2` import `module`\n",
    "\n",
    "Since everything in the module's globals frame is accessible you can call a function like this:\n",
    "\n",
    "`module.function(arugments)`\n",
    "\n",
    "e.g. `helpers.powerful(2, 4)`\n"
   ]
  },
  {
   "cell_type": "markdown",
   "metadata": {},
   "source": [
    "## It is also possible to alias the imported module under a more accessible name\n",
    "\n",
    "from `directory_name` import `module` as `alias`\n",
    "\n",
    "e.g. from `lessons` import `helpers` as `hp`\n",
    "\n",
    "*note: you will want to add a new variable name for the alias under your globals from in the destination*"
   ]
  },
  {
   "cell_type": "markdown",
   "metadata": {},
   "source": [
    "## Lastly, it is also possible to directly import functions\n",
    "*Though, it's usually better to import the module first*\n",
    "\n",
    "*in this case, the function would be added to the globals frame of the directory and then would bypass the second module to directly go to the heap*\n",
    "\n",
    "from `directory_name.module` import `variable_or_function_name`, `name_2`\n",
    "\n",
    "*commas separate different variables, functions, etc that you want to import*\n",
    "\n",
    "e.g. from `lessons.helpers` import `powerful`"
   ]
  },
  {
   "cell_type": "markdown",
   "metadata": {},
   "source": [
    "# LS 16: Unit Testing!"
   ]
  },
  {
   "cell_type": "markdown",
   "metadata": {},
   "source": [
    "## Test Functions\n",
    "*Note: when creating your pytesting files:*\n",
    "\n",
    "*file name must **end** with _`test.py`*\n",
    "*test functions within these files must **begin** with `test_`*\n",
    "\n",
    "* Parameterless functions that return NONE!\n",
    "* Should make an assertion with a boolean expression s.t. if bool is `True`, the test passes, if `False` or `Error`, something has gone wrong (assert some expectation with a given input)\n",
    "\n",
    "`assert bool`\n",
    "\n",
    "* You'll want to make edge cases and use cases, and you want to  write many individual tests that probe specific, individual use and edge cases rather than very few complex tests that probe many use/edge cases at the same time.\n",
    "\n",
    "\n",
    " "
   ]
  },
  {
   "cell_type": "markdown",
   "metadata": {},
   "source": [
    "- Edge cases refer to those that would be less common to use with a specific function (e.g. empty parameter, single value, etc.)"
   ]
  },
  {
   "cell_type": "code",
   "execution_count": null,
   "metadata": {},
   "outputs": [],
   "source": [
    "def test_sum_empty() -> None:\n",
    "    xs: list[float] = []\n",
    "    assert sum(xs) == 0.0"
   ]
  },
  {
   "cell_type": "markdown",
   "metadata": {},
   "source": [
    "* Use cases are ones that would be practical to use!"
   ]
  },
  {
   "cell_type": "code",
   "execution_count": null,
   "metadata": {},
   "outputs": [],
   "source": [
    "def test_sum_many_items() -> None:\n",
    "    xs: list[float] = [1.0, 2.0, 3.0]\n",
    "    assert sum(xs) == 6.0"
   ]
  },
  {
   "cell_type": "markdown",
   "metadata": {},
   "source": [
    "## Running a pytest:\n",
    "testing option on right side\n",
    "\n",
    "or \n",
    "\n",
    "in zsh terminal: \n",
    "\n",
    "`python -m pytest directory/file.py`\n",
    "\n",
    "e.g. `python -m pytest lessons/subjects_test.py`"
   ]
  },
  {
   "cell_type": "markdown",
   "metadata": {},
   "source": [
    "## Jupyter Notebooks!\n",
    "*refer to notebook.ipynb*\n",
    "\n"
   ]
  },
  {
   "cell_type": "markdown",
   "metadata": {},
   "source": [
    "## CSV\n",
    "\n",
    "*refer to weather.csv and csv_demo.ipynb and data_utils_1.py*"
   ]
  }
 ],
 "metadata": {
  "kernelspec": {
   "display_name": "Python 3.10.5 64-bit",
   "language": "python",
   "name": "python3"
  },
  "language_info": {
   "codemirror_mode": {
    "name": "ipython",
    "version": 3
   },
   "file_extension": ".py",
   "mimetype": "text/x-python",
   "name": "python",
   "nbconvert_exporter": "python",
   "pygments_lexer": "ipython3",
   "version": "3.10.5"
  },
  "orig_nbformat": 4,
  "vscode": {
   "interpreter": {
    "hash": "aee8b7b246df8f9039afb4144a1f6fd8d2ca17a180786b69acc140d282b71a49"
   }
  }
 },
 "nbformat": 4,
 "nbformat_minor": 2
}
