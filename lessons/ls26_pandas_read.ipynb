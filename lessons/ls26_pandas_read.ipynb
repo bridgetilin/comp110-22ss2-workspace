{
 "cells": [
  {
   "cell_type": "code",
   "execution_count": 1,
   "metadata": {},
   "outputs": [
    {
     "data": {
      "text/plain": [
       "(217, 12)"
      ]
     },
     "execution_count": 1,
     "metadata": {},
     "output_type": "execute_result"
    }
   ],
   "source": [
    "import pandas as pd\n",
    "titanic = pd.read_csv(\"../data/titanic.csv\")\n",
    "titanic\n",
    "titanic.head(8)  #gives you the first 8 rows of data\n",
    "ages = titanic[\"Age\"]\n",
    "type(titanic[\"Age\"])\n",
    "titanic[\"Age\"].shape\n",
    "age_sex = titanic[[\"Age\", \"Sex\"]]\n",
    "type(age_sex)\n",
    "above_35 = titanic[titanic[\"Age\"] > 35]\n",
    "above_35.head()\n",
    "above_35.shape\n",
    "\n",
    "\n"
   ]
  },
  {
   "cell_type": "markdown",
   "metadata": {},
   "source": []
  }
 ],
 "metadata": {
  "kernelspec": {
   "display_name": "Python 3.10.5 64-bit",
   "language": "python",
   "name": "python3"
  },
  "language_info": {
   "codemirror_mode": {
    "name": "ipython",
    "version": 3
   },
   "file_extension": ".py",
   "mimetype": "text/x-python",
   "name": "python",
   "nbconvert_exporter": "python",
   "pygments_lexer": "ipython3",
   "version": "3.10.5"
  },
  "orig_nbformat": 4,
  "vscode": {
   "interpreter": {
    "hash": "aee8b7b246df8f9039afb4144a1f6fd8d2ca17a180786b69acc140d282b71a49"
   }
  }
 },
 "nbformat": 4,
 "nbformat_minor": 2
}
